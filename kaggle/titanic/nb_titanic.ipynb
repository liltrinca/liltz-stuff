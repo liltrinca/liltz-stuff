{
 "cells": [
  {
   "attachments": {},
   "cell_type": "markdown",
   "id": "288ea3cd-96e8-4ee3-9562-b4c890779e4d",
   "metadata": {},
   "source": [
    "## Imports"
   ]
  },
  {
   "cell_type": "code",
   "execution_count": 1,
   "id": "165ba86e-cded-4e5f-bc39-9d9da9bcf883",
   "metadata": {},
   "outputs": [],
   "source": [
    "import pandas as pd\n",
    "\n",
    "from sklearn.tree import DecisionTreeClassifier\n",
    "from sklearn.metrics import mean_absolute_error\n",
    "from sklearn.model_selection import train_test_split\n",
    "\n",
    "from sklearn.gaussian_process import GaussianProcessClassifier\n",
    "from sklearn.ensemble import RandomForestClassifier, AdaBoostClassifier\n",
    "\n",
    "import seaborn as sns"
   ]
  },
  {
   "cell_type": "code",
   "execution_count": 2,
   "id": "20c69bd8-0d2f-40a5-b03f-e6ca10486b0f",
   "metadata": {},
   "outputs": [],
   "source": [
    "# Function definitions\n",
    "def title_apply(df, col, titles):\n",
    "    for i in titles:\n",
    "        if i in df[col]:\n",
    "            return i"
   ]
  },
  {
   "cell_type": "markdown",
   "id": "e5ec5cd9-c2a5-4a5c-ad58-f18f8d76be88",
   "metadata": {},
   "source": [
    "### Reading the data"
   ]
  },
  {
   "cell_type": "code",
   "execution_count": 3,
   "id": "82713d56-2b6a-45f0-9393-a8b7efa6af3a",
   "metadata": {},
   "outputs": [],
   "source": [
    "df_train = pd.read_csv(\"train.csv\")\n",
    "df_test = pd.read_csv(\"test.csv\")\n",
    "gender_submission = pd.read_csv(\"gender_submission.csv\")\n",
    "\n",
    "df_full = pd.concat([df_train[df_test.columns],df_test])"
   ]
  },
  {
   "attachments": {},
   "cell_type": "markdown",
   "id": "05194252",
   "metadata": {},
   "source": [
    "### Featuring Engineering with full data\n",
    "- Transforming categorical to numeric"
   ]
  },
  {
   "cell_type": "code",
   "execution_count": 4,
   "id": "fe2c2641",
   "metadata": {},
   "outputs": [],
   "source": [
    "df_full['Sex'] = pd.Categorical(df_full['Sex'])\n",
    "df_full['Sex_n'] = df_full['Sex'].cat.codes\n",
    "\n",
    "df_full['Embarked'] = pd.Categorical(df_full['Embarked'])\n",
    "df_full['Embarked_n'] = df_full['Embarked'].cat.codes"
   ]
  },
  {
   "attachments": {},
   "cell_type": "markdown",
   "id": "3037171c",
   "metadata": {},
   "source": [
    "- Fill age with mean value and fare"
   ]
  },
  {
   "cell_type": "code",
   "execution_count": 5,
   "id": "b8041c0f",
   "metadata": {},
   "outputs": [],
   "source": [
    "# Age\n",
    "df_full['Age'] = df_full['Age'].round(0)\n",
    "df_full['Age'] = df_full['Age'].fillna(round(df_full['Age'].mean(),0))\n",
    "\n",
    "# Fare\n",
    "df_full['Fare'] = df_full['Fare'].fillna(0)"
   ]
  },
  {
   "attachments": {},
   "cell_type": "markdown",
   "id": "31a86bcc",
   "metadata": {},
   "source": [
    "- Title"
   ]
  },
  {
   "cell_type": "code",
   "execution_count": 6,
   "id": "c687db75",
   "metadata": {},
   "outputs": [
    {
     "data": {
      "text/plain": [
       "['Countess.',\n",
       " 'Mr.',\n",
       " 'Lady.',\n",
       " 'Major.',\n",
       " 'Mlle.',\n",
       " 'Master.',\n",
       " 'Mme.',\n",
       " 'Dona.',\n",
       " 'Sir.',\n",
       " 'Ms.',\n",
       " 'Jonkheer.',\n",
       " 'Don.',\n",
       " 'Mrs.',\n",
       " 'Capt.',\n",
       " 'Col.',\n",
       " 'Miss.',\n",
       " 'Rev.',\n",
       " 'Dr.']"
      ]
     },
     "execution_count": 6,
     "metadata": {},
     "output_type": "execute_result"
    }
   ],
   "source": [
    "# Defining titles list\n",
    "titles = []\n",
    "\n",
    "for name in df_full['Name']:\n",
    "    splitted = name.split(' ')\n",
    "    for i in splitted:\n",
    "        if '.' in i:\n",
    "            titles.append(i)\n",
    "            \n",
    "titles = list(set(titles))\n",
    "titles.remove('L.')\n",
    "titles"
   ]
  },
  {
   "cell_type": "code",
   "execution_count": 7,
   "id": "35d319d7",
   "metadata": {},
   "outputs": [],
   "source": [
    "# Applying new title column\n",
    "df_full['Title'] = df_full.apply(lambda x: title_apply(x, 'Name', titles), axis=1)\n",
    "\n",
    "# Categorical to numerical\n",
    "df_full['Title'] = pd.Categorical(df_full['Title'])\n",
    "df_full['Title_n'] = df_full['Title'].cat.codes"
   ]
  },
  {
   "attachments": {},
   "cell_type": "markdown",
   "id": "73ff5673",
   "metadata": {},
   "source": [
    "- Total size of family"
   ]
  },
  {
   "cell_type": "code",
   "execution_count": 8,
   "id": "d82b055b",
   "metadata": {},
   "outputs": [],
   "source": [
    "df_full['Total_Family_Size'] = df_full['SibSp'] + df_full['Parch'] + 1\n",
    "\n",
    "df_full['Family_Fare'] = df_full['Fare'] / df_full['Total_Family_Size']"
   ]
  },
  {
   "attachments": {},
   "cell_type": "markdown",
   "id": "8d329289",
   "metadata": {},
   "source": [
    "- Ticket feature"
   ]
  },
  {
   "cell_type": "code",
   "execution_count": 9,
   "id": "8efc1e63",
   "metadata": {},
   "outputs": [],
   "source": [
    "df_full['Ticket'] = df_full['Ticket'].str.replace('[/. 0-9]','', regex=True)\n",
    "df_full['Ticket'] = df_full.apply(lambda x: 'Numeric_Ticket' if x['Ticket'] == '' else x['Ticket'], axis=1)"
   ]
  },
  {
   "cell_type": "code",
   "execution_count": 10,
   "id": "86ed0c1a",
   "metadata": {},
   "outputs": [],
   "source": [
    "df_full['Ticket'] = pd.Categorical(df_full['Ticket'])\n",
    "df_full['Ticket_n'] = df_full['Ticket'].cat.codes"
   ]
  },
  {
   "attachments": {},
   "cell_type": "markdown",
   "id": "2150a127",
   "metadata": {},
   "source": [
    "- Cabin Feature"
   ]
  },
  {
   "cell_type": "code",
   "execution_count": 11,
   "id": "bbf17cd9",
   "metadata": {},
   "outputs": [],
   "source": [
    "df_full['Cabin'] = df_full['Cabin'].fillna('Z')\n",
    "df_full['Cabin'] = df_full['Cabin'].str[0]"
   ]
  },
  {
   "cell_type": "code",
   "execution_count": 12,
   "id": "edf76bcf",
   "metadata": {},
   "outputs": [],
   "source": [
    "df_full['Cabin'] = pd.Categorical(df_full['Cabin'])\n",
    "df_full['Cabin_n'] = df_full['Cabin'].cat.codes"
   ]
  },
  {
   "cell_type": "code",
   "execution_count": 15,
   "id": "24bebd4b",
   "metadata": {},
   "outputs": [
    {
     "data": {
      "text/html": [
       "<div>\n",
       "<style scoped>\n",
       "    .dataframe tbody tr th:only-of-type {\n",
       "        vertical-align: middle;\n",
       "    }\n",
       "\n",
       "    .dataframe tbody tr th {\n",
       "        vertical-align: top;\n",
       "    }\n",
       "\n",
       "    .dataframe thead th {\n",
       "        text-align: right;\n",
       "    }\n",
       "</style>\n",
       "<table border=\"1\" class=\"dataframe\">\n",
       "  <thead>\n",
       "    <tr style=\"text-align: right;\">\n",
       "      <th></th>\n",
       "      <th>PassengerId</th>\n",
       "      <th>Pclass</th>\n",
       "      <th>Name</th>\n",
       "      <th>Sex</th>\n",
       "      <th>Age</th>\n",
       "      <th>SibSp</th>\n",
       "      <th>Parch</th>\n",
       "      <th>Ticket</th>\n",
       "      <th>Fare</th>\n",
       "      <th>Cabin</th>\n",
       "      <th>Embarked</th>\n",
       "      <th>Sex_n</th>\n",
       "      <th>Embarked_n</th>\n",
       "      <th>Title</th>\n",
       "      <th>Title_n</th>\n",
       "      <th>Total_Family_Size</th>\n",
       "      <th>Family_Fare</th>\n",
       "      <th>Ticket_n</th>\n",
       "      <th>Cabin_n</th>\n",
       "    </tr>\n",
       "  </thead>\n",
       "  <tbody>\n",
       "    <tr>\n",
       "      <th>0</th>\n",
       "      <td>1</td>\n",
       "      <td>3</td>\n",
       "      <td>Braund, Mr. Owen Harris</td>\n",
       "      <td>male</td>\n",
       "      <td>22.0</td>\n",
       "      <td>1</td>\n",
       "      <td>0</td>\n",
       "      <td>A</td>\n",
       "      <td>7.2500</td>\n",
       "      <td>Z</td>\n",
       "      <td>S</td>\n",
       "      <td>1</td>\n",
       "      <td>2</td>\n",
       "      <td>Mr.</td>\n",
       "      <td>13</td>\n",
       "      <td>2</td>\n",
       "      <td>3.62500</td>\n",
       "      <td>0</td>\n",
       "      <td>8</td>\n",
       "    </tr>\n",
       "    <tr>\n",
       "      <th>1</th>\n",
       "      <td>2</td>\n",
       "      <td>1</td>\n",
       "      <td>Cumings, Mrs. John Bradley (Florence Briggs Th...</td>\n",
       "      <td>female</td>\n",
       "      <td>38.0</td>\n",
       "      <td>1</td>\n",
       "      <td>0</td>\n",
       "      <td>PC</td>\n",
       "      <td>71.2833</td>\n",
       "      <td>C</td>\n",
       "      <td>C</td>\n",
       "      <td>0</td>\n",
       "      <td>0</td>\n",
       "      <td>Mrs.</td>\n",
       "      <td>14</td>\n",
       "      <td>2</td>\n",
       "      <td>35.64165</td>\n",
       "      <td>12</td>\n",
       "      <td>2</td>\n",
       "    </tr>\n",
       "    <tr>\n",
       "      <th>2</th>\n",
       "      <td>3</td>\n",
       "      <td>3</td>\n",
       "      <td>Heikkinen, Miss. Laina</td>\n",
       "      <td>female</td>\n",
       "      <td>26.0</td>\n",
       "      <td>0</td>\n",
       "      <td>0</td>\n",
       "      <td>STONO</td>\n",
       "      <td>7.9250</td>\n",
       "      <td>Z</td>\n",
       "      <td>S</td>\n",
       "      <td>0</td>\n",
       "      <td>2</td>\n",
       "      <td>Miss.</td>\n",
       "      <td>10</td>\n",
       "      <td>1</td>\n",
       "      <td>7.92500</td>\n",
       "      <td>28</td>\n",
       "      <td>8</td>\n",
       "    </tr>\n",
       "    <tr>\n",
       "      <th>3</th>\n",
       "      <td>4</td>\n",
       "      <td>1</td>\n",
       "      <td>Futrelle, Mrs. Jacques Heath (Lily May Peel)</td>\n",
       "      <td>female</td>\n",
       "      <td>35.0</td>\n",
       "      <td>1</td>\n",
       "      <td>0</td>\n",
       "      <td>Numeric_Ticket</td>\n",
       "      <td>53.1000</td>\n",
       "      <td>C</td>\n",
       "      <td>S</td>\n",
       "      <td>0</td>\n",
       "      <td>2</td>\n",
       "      <td>Mrs.</td>\n",
       "      <td>14</td>\n",
       "      <td>2</td>\n",
       "      <td>26.55000</td>\n",
       "      <td>11</td>\n",
       "      <td>2</td>\n",
       "    </tr>\n",
       "    <tr>\n",
       "      <th>4</th>\n",
       "      <td>5</td>\n",
       "      <td>3</td>\n",
       "      <td>Allen, Mr. William Henry</td>\n",
       "      <td>male</td>\n",
       "      <td>35.0</td>\n",
       "      <td>0</td>\n",
       "      <td>0</td>\n",
       "      <td>Numeric_Ticket</td>\n",
       "      <td>8.0500</td>\n",
       "      <td>Z</td>\n",
       "      <td>S</td>\n",
       "      <td>1</td>\n",
       "      <td>2</td>\n",
       "      <td>Mr.</td>\n",
       "      <td>13</td>\n",
       "      <td>1</td>\n",
       "      <td>8.05000</td>\n",
       "      <td>11</td>\n",
       "      <td>8</td>\n",
       "    </tr>\n",
       "  </tbody>\n",
       "</table>\n",
       "</div>"
      ],
      "text/plain": [
       "   PassengerId  Pclass                                               Name  \\\n",
       "0            1       3                            Braund, Mr. Owen Harris   \n",
       "1            2       1  Cumings, Mrs. John Bradley (Florence Briggs Th...   \n",
       "2            3       3                             Heikkinen, Miss. Laina   \n",
       "3            4       1       Futrelle, Mrs. Jacques Heath (Lily May Peel)   \n",
       "4            5       3                           Allen, Mr. William Henry   \n",
       "\n",
       "      Sex   Age  SibSp  Parch          Ticket     Fare Cabin Embarked  Sex_n  \\\n",
       "0    male  22.0      1      0               A   7.2500     Z        S      1   \n",
       "1  female  38.0      1      0              PC  71.2833     C        C      0   \n",
       "2  female  26.0      0      0           STONO   7.9250     Z        S      0   \n",
       "3  female  35.0      1      0  Numeric_Ticket  53.1000     C        S      0   \n",
       "4    male  35.0      0      0  Numeric_Ticket   8.0500     Z        S      1   \n",
       "\n",
       "   Embarked_n  Title  Title_n  Total_Family_Size  Family_Fare  Ticket_n  \\\n",
       "0           2    Mr.       13                  2      3.62500         0   \n",
       "1           0   Mrs.       14                  2     35.64165        12   \n",
       "2           2  Miss.       10                  1      7.92500        28   \n",
       "3           2   Mrs.       14                  2     26.55000        11   \n",
       "4           2    Mr.       13                  1      8.05000        11   \n",
       "\n",
       "   Cabin_n  \n",
       "0        8  \n",
       "1        2  \n",
       "2        8  \n",
       "3        2  \n",
       "4        8  "
      ]
     },
     "execution_count": 15,
     "metadata": {},
     "output_type": "execute_result"
    }
   ],
   "source": [
    "df_full.head()"
   ]
  },
  {
   "cell_type": "code",
   "execution_count": 20,
   "id": "51bcc204",
   "metadata": {},
   "outputs": [],
   "source": [
    "df_train = df_train[['PassengerId','Survived']]\n",
    "df_train = df_full.merge(df_train, on='PassengerId', how='inner')"
   ]
  },
  {
   "cell_type": "markdown",
   "id": "77ea0b14-59ae-42f4-bcc7-5dc0ca24c514",
   "metadata": {},
   "source": [
    "### Feature selection and model training"
   ]
  },
  {
   "cell_type": "code",
   "execution_count": 23,
   "id": "af6fbb54-b714-448b-a87b-70ba6fa0d422",
   "metadata": {},
   "outputs": [],
   "source": [
    "features = ['Pclass','Sex_n','Age','SibSp','Parch','Fare','Embarked_n','Title_n','Total_Family_Size','Family_Fare','Ticket_n','Cabin_n']\n",
    "\n",
    "train_X = df_train[features]\n",
    "train_y = df_train['Survived']"
   ]
  },
  {
   "cell_type": "code",
   "execution_count": 24,
   "id": "4c87202c",
   "metadata": {},
   "outputs": [
    {
     "data": {
      "text/plain": [
       "<AxesSubplot:>"
      ]
     },
     "execution_count": 24,
     "metadata": {},
     "output_type": "execute_result"
    },
    {
     "data": {
      "image/png": "[encoded data removed]",
      "text/plain": [
       "<Figure size 640x480 with 2 Axes>"
      ]
     },
     "metadata": {},
     "output_type": "display_data"
    }
   ],
   "source": [
    "sns.heatmap(train_X.corr())"
   ]
  },
  {
   "cell_type": "code",
   "execution_count": 25,
   "id": "6d6160f3-789b-4a51-b75e-bec25907194f",
   "metadata": {},
   "outputs": [
    {
     "data": {
      "text/html": [
       "<style>#sk-container-id-1 {color: black;background-color: white;}#sk-container-id-1 pre{padding: 0;}#sk-container-id-1 div.sk-toggleable {background-color: white;}#sk-container-id-1 label.sk-toggleable__label {cursor: pointer;display: block;width: 100%;margin-bottom: 0;padding: 0.3em;box-sizing: border-box;text-align: center;}#sk-container-id-1 label.sk-toggleable__label-arrow:before {content: \"▸\";float: left;margin-right: 0.25em;color: #696969;}#sk-container-id-1 label.sk-toggleable__label-arrow:hover:before {color: black;}#sk-container-id-1 div.sk-estimator:hover label.sk-toggleable__label-arrow:before {color: black;}#sk-container-id-1 div.sk-toggleable__content {max-height: 0;max-width: 0;overflow: hidden;text-align: left;background-color: #f0f8ff;}#sk-container-id-1 div.sk-toggleable__content pre {margin: 0.2em;color: black;border-radius: 0.25em;background-color: #f0f8ff;}#sk-container-id-1 input.sk-toggleable__control:checked~div.sk-toggleable__content {max-height: 200px;max-width: 100%;overflow: auto;}#sk-container-id-1 input.sk-toggleable__control:checked~label.sk-toggleable__label-arrow:before {content: \"▾\";}#sk-container-id-1 div.sk-estimator input.sk-toggleable__control:checked~label.sk-toggleable__label {background-color: #d4ebff;}#sk-container-id-1 div.sk-label input.sk-toggleable__control:checked~label.sk-toggleable__label {background-color: #d4ebff;}#sk-container-id-1 input.sk-hidden--visually {border: 0;clip: rect(1px 1px 1px 1px);clip: rect(1px, 1px, 1px, 1px);height: 1px;margin: -1px;overflow: hidden;padding: 0;position: absolute;width: 1px;}#sk-container-id-1 div.sk-estimator {font-family: monospace;background-color: #f0f8ff;border: 1px dotted black;border-radius: 0.25em;box-sizing: border-box;margin-bottom: 0.5em;}#sk-container-id-1 div.sk-estimator:hover {background-color: #d4ebff;}#sk-container-id-1 div.sk-parallel-item::after {content: \"\";width: 100%;border-bottom: 1px solid gray;flex-grow: 1;}#sk-container-id-1 div.sk-label:hover label.sk-toggleable__label {background-color: #d4ebff;}#sk-container-id-1 div.sk-serial::before {content: \"\";position: absolute;border-left: 1px solid gray;box-sizing: border-box;top: 0;bottom: 0;left: 50%;z-index: 0;}#sk-container-id-1 div.sk-serial {display: flex;flex-direction: column;align-items: center;background-color: white;padding-right: 0.2em;padding-left: 0.2em;position: relative;}#sk-container-id-1 div.sk-item {position: relative;z-index: 1;}#sk-container-id-1 div.sk-parallel {display: flex;align-items: stretch;justify-content: center;background-color: white;position: relative;}#sk-container-id-1 div.sk-item::before, #sk-container-id-1 div.sk-parallel-item::before {content: \"\";position: absolute;border-left: 1px solid gray;box-sizing: border-box;top: 0;bottom: 0;left: 50%;z-index: -1;}#sk-container-id-1 div.sk-parallel-item {display: flex;flex-direction: column;z-index: 1;position: relative;background-color: white;}#sk-container-id-1 div.sk-parallel-item:first-child::after {align-self: flex-end;width: 50%;}#sk-container-id-1 div.sk-parallel-item:last-child::after {align-self: flex-start;width: 50%;}#sk-container-id-1 div.sk-parallel-item:only-child::after {width: 0;}#sk-container-id-1 div.sk-dashed-wrapped {border: 1px dashed gray;margin: 0 0.4em 0.5em 0.4em;box-sizing: border-box;padding-bottom: 0.4em;background-color: white;}#sk-container-id-1 div.sk-label label {font-family: monospace;font-weight: bold;display: inline-block;line-height: 1.2em;}#sk-container-id-1 div.sk-label-container {text-align: center;}#sk-container-id-1 div.sk-container {/* jupyter's `normalize.less` sets `[hidden] { display: none; }` but bootstrap.min.css set `[hidden] { display: none !important; }` so we also need the `!important` here to be able to override the default hidden behavior on the sphinx rendered scikit-learn.org. See: https://github.com/scikit-learn/scikit-learn/issues/21755 */display: inline-block !important;position: relative;}#sk-container-id-1 div.sk-text-repr-fallback {display: none;}</style><div id=\"sk-container-id-1\" class=\"sk-top-container\"><div class=\"sk-text-repr-fallback\"><pre>AdaBoostClassifier(random_state=28)</pre><b>In a Jupyter environment, please rerun this cell to show the HTML representation or trust the notebook. <br />On GitHub, the HTML representation is unable to render, please try loading this page with nbviewer.org.</b></div><div class=\"sk-container\" hidden><div class=\"sk-item\"><div class=\"sk-estimator sk-toggleable\"><input class=\"sk-toggleable__control sk-hidden--visually\" id=\"sk-estimator-id-1\" type=\"checkbox\" checked><label for=\"sk-estimator-id-1\" class=\"sk-toggleable__label sk-toggleable__label-arrow\">AdaBoostClassifier</label><div class=\"sk-toggleable__content\"><pre>AdaBoostClassifier(random_state=28)</pre></div></div></div></div></div>"
      ],
      "text/plain": [
       "AdaBoostClassifier(random_state=28)"
      ]
     },
     "execution_count": 25,
     "metadata": {},
     "output_type": "execute_result"
    }
   ],
   "source": [
    "model = DecisionTreeClassifier(random_state=28)\n",
    "model.fit(train_X, train_y)\n",
    "\n",
    "model_gauss = GaussianProcessClassifier(random_state=28)\n",
    "model_gauss.fit(train_X, train_y)\n",
    "\n",
    "model_rf = RandomForestClassifier(random_state=28)\n",
    "model_rf.fit(train_X, train_y)\n",
    "\n",
    "model_ada = AdaBoostClassifier(random_state=28)\n",
    "model_ada.fit(train_X, train_y)"
   ]
  },
  {
   "cell_type": "code",
   "execution_count": 26,
   "id": "73e57934-39a5-4546-8664-b7f42ca34d3a",
   "metadata": {},
   "outputs": [],
   "source": [
    "train_predictions = pd.Series(model.predict(train_X))\n",
    "train_predictions = train_predictions.rename('Predicted')\n",
    "\n",
    "train_predictions_gauss = pd.Series(model_gauss.predict(train_X))\n",
    "train_predictions_gauss = train_predictions_gauss.rename('Predicted')\n",
    "\n",
    "train_predictions_rf = pd.Series(model_rf.predict(train_X))\n",
    "train_predictions_rf = train_predictions_rf.rename('Predicted')\n",
    "\n",
    "train_predictions_ada = pd.Series(model_ada.predict(train_X))\n",
    "train_predictions_ada = train_predictions_ada.rename('Predicted')"
   ]
  },
  {
   "cell_type": "code",
   "execution_count": 27,
   "id": "db32188e-2515-40de-850a-30a3ee1b8eb0",
   "metadata": {},
   "outputs": [
    {
     "name": "stdout",
     "output_type": "stream",
     "text": [
      "Model accuracy is : 0.9887766554433222\n",
      "Model accuracy for gauss is : 0.9730639730639731\n",
      "Model accuracy for rf is : 0.9887766554433222\n",
      "Model accuracy for ada is : 0.8473625140291807\n"
     ]
    }
   ],
   "source": [
    "predicted = pd.concat([df_train['Survived'], train_predictions], axis=1)\n",
    "predicted['Result'] = predicted.apply(lambda x: x['Survived'] == x['Predicted'], axis=1)\n",
    "predicted_gauss = pd.concat([df_train['Survived'], train_predictions_gauss], axis=1)\n",
    "predicted_gauss['Result'] = predicted_gauss.apply(lambda x: x['Survived'] == x['Predicted'], axis=1)\n",
    "predicted_rf = pd.concat([df_train['Survived'], train_predictions_rf], axis=1)\n",
    "predicted_rf['Result'] = predicted_rf.apply(lambda x: x['Survived'] == x['Predicted'], axis=1)\n",
    "predicted_ada = pd.concat([df_train['Survived'], train_predictions_ada], axis=1)\n",
    "predicted_ada['Result'] = predicted_ada.apply(lambda x: x['Survived'] == x['Predicted'], axis=1)\n",
    "\n",
    "correct_predictions = predicted['Result'].value_counts()[True]\n",
    "total = predicted['Result'].count()\n",
    "correct_predictions_gauss = predicted_gauss['Result'].value_counts()[True]\n",
    "total_gauss = predicted_gauss['Result'].count()\n",
    "correct_predictions_rf = predicted_rf['Result'].value_counts()[True]\n",
    "total_rf = predicted_rf['Result'].count()\n",
    "correct_predictions_ada = predicted_ada['Result'].value_counts()[True]\n",
    "total_ada = predicted_ada['Result'].count()\n",
    "\n",
    "model_accuracy = correct_predictions / total\n",
    "model_accuracy_gauss = correct_predictions_gauss / total_gauss\n",
    "model_accuracy_rf = correct_predictions_rf / total_rf\n",
    "model_accuracy_ada = correct_predictions_ada / total_ada\n",
    "print(f'Model accuracy is : {model_accuracy}')\n",
    "print(f'Model accuracy for gauss is : {model_accuracy_gauss}')\n",
    "print(f'Model accuracy for rf is : {model_accuracy_rf}')\n",
    "print(f'Model accuracy for ada is : {model_accuracy_ada}')"
   ]
  },
  {
   "cell_type": "code",
   "execution_count": 29,
   "id": "60d11cc4",
   "metadata": {},
   "outputs": [],
   "source": [
    "df_test = df_test['PassengerId']\n",
    "df_test = df_full.merge(df_test, on='PassengerId', how='inner')"
   ]
  },
  {
   "cell_type": "code",
   "execution_count": 32,
   "id": "b4b7d0aa-4e96-4001-8ceb-625157264ae2",
   "metadata": {},
   "outputs": [],
   "source": [
    "# Test Feature selection\n",
    "test_X = df_test[features]\n",
    "\n",
    "# Predictions\n",
    "test_predictions = model_ada.predict(test_X)"
   ]
  },
  {
   "cell_type": "code",
   "execution_count": 33,
   "id": "e3bc1fb1-ce60-41e2-b5df-0df360fd797e",
   "metadata": {},
   "outputs": [],
   "source": [
    "df_submission = pd.concat([df_test['PassengerId'], pd.Series(test_predictions)], axis=1)"
   ]
  },
  {
   "cell_type": "code",
   "execution_count": 34,
   "id": "29ad356c-b01f-498e-982b-8a76fc219382",
   "metadata": {},
   "outputs": [],
   "source": [
    "df_submission = df_submission.rename(columns={0:'Survived'})\n",
    "df_submission.to_csv(\"titanic_results_ada.csv\", header=True, index=False)"
   ]
  }
 ],
 "metadata": {
  "kernelspec": {
   "display_name": "base",
   "language": "python",
   "name": "python3"
  },
  "language_info": {
   "codemirror_mode": {
    "name": "ipython",
    "version": 3
   },
   "file_extension": ".py",
   "mimetype": "text/x-python",
   "name": "python",
   "nbconvert_exporter": "python",
   "pygments_lexer": "ipython3",
   "version": "3.9.13"
  },
  "vscode": {
   "interpreter": {
    "hash": "59924e34027df4cc9b15b50c9216d57487fc2a1a92908c3f2f36759a9de8f940"
   }
  }
 },
 "nbformat": 4,
 "nbformat_minor": 5
}
