{
 "cells": [
  {
   "attachments": {},
   "cell_type": "markdown",
   "id": "288ea3cd-96e8-4ee3-9562-b4c890779e4d",
   "metadata": {},
   "source": [
    "## Imports"
   ]
  },
  {
   "cell_type": "code",
   "execution_count": 1,
   "id": "165ba86e-cded-4e5f-bc39-9d9da9bcf883",
   "metadata": {},
   "outputs": [],
   "source": [
    "import pandas as pd\n",
    "import numpy as np\n",
    "\n",
    "# from sklearn.experimental import enable_halving_search_cv\n",
    "\n",
    "from sklearn.tree import DecisionTreeClassifier\n",
    "from sklearn.metrics import mean_absolute_error\n",
    "from sklearn.model_selection import train_test_split, cross_val_score, cross_validate #, HalvingGridSearchCV, HalvingRandomSearchCV\n",
    "\n",
    "from sklearn.gaussian_process import GaussianProcessClassifier\n",
    "from sklearn.ensemble import RandomForestClassifier, AdaBoostClassifier\n",
    "\n",
    "from sklearn.svm import SVC\n",
    "\n",
    "import seaborn as sns"
   ]
  },
  {
   "cell_type": "code",
   "execution_count": 2,
   "id": "20c69bd8-0d2f-40a5-b03f-e6ca10486b0f",
   "metadata": {},
   "outputs": [],
   "source": [
    "# Function definitions\n",
    "def title_apply(df, col):\n",
    "    splitted = df[col].split(' ')\n",
    "\n",
    "    mr = ['Mr.']\n",
    "    miss = ['Miss.','Mrs.','Dona.']\n",
    "    power = ['Master.','Rev.','Dr.','Mlle.','Ms.','Lady.','Sir.','Mme.','Don.','Jonkheer.','Countess.']\n",
    "    millitary = ['Col.','Major.','Capt.']\n",
    "\n",
    "    for i in splitted:\n",
    "        if '.' in i:\n",
    "            if i in mr:\n",
    "                return 'Mr'\n",
    "            \n",
    "            elif i in miss:\n",
    "                return 'Miss'\n",
    "            \n",
    "            elif i in power:\n",
    "                return 'Power'\n",
    "            \n",
    "            elif i in millitary:\n",
    "                return 'Millitary'"
   ]
  },
  {
   "cell_type": "markdown",
   "id": "e5ec5cd9-c2a5-4a5c-ad58-f18f8d76be88",
   "metadata": {},
   "source": [
    "### Reading the data"
   ]
  },
  {
   "cell_type": "code",
   "execution_count": 3,
   "id": "82713d56-2b6a-45f0-9393-a8b7efa6af3a",
   "metadata": {},
   "outputs": [],
   "source": [
    "df_train = pd.read_csv(\"train.csv\")\n",
    "df_test = pd.read_csv(\"test.csv\")\n",
    "gender_submission = pd.read_csv(\"gender_submission.csv\")\n",
    "\n",
    "df_full = pd.concat([df_train[df_test.columns],df_test]).reset_index(drop=True)"
   ]
  },
  {
   "attachments": {},
   "cell_type": "markdown",
   "id": "05194252",
   "metadata": {},
   "source": [
    "### Featuring Engineering with full data\n",
    "- Transforming categorical to numeric"
   ]
  },
  {
   "cell_type": "code",
   "execution_count": 4,
   "id": "fe2c2641",
   "metadata": {},
   "outputs": [],
   "source": [
    "sex_dummies = pd.get_dummies(df_full['Sex'], prefix='Sex') # drop sex\n",
    "\n",
    "embarked_dummies = pd.get_dummies(df_full['Embarked'], prefix='Emb')"
   ]
  },
  {
   "attachments": {},
   "cell_type": "markdown",
   "id": "3037171c",
   "metadata": {},
   "source": [
    "- Fill age with mean value and fare"
   ]
  },
  {
   "cell_type": "code",
   "execution_count": 5,
   "id": "b8041c0f",
   "metadata": {},
   "outputs": [],
   "source": [
    "# Age\n",
    "df_full['Age'] = df_full['Age'].round(0)\n",
    "df_full['Age'] = df_full['Age'].fillna(round(df_full['Age'].median(),0))\n",
    "\n",
    "# Fare\n",
    "df_full['Fare'] = df_full['Fare'].fillna(0)"
   ]
  },
  {
   "attachments": {},
   "cell_type": "markdown",
   "id": "31a86bcc",
   "metadata": {},
   "source": [
    "- Title"
   ]
  },
  {
   "cell_type": "code",
   "execution_count": 6,
   "id": "c687db75",
   "metadata": {},
   "outputs": [],
   "source": [
    "# Applying new title column\n",
    "df_full['Title'] = df_full.apply(lambda x: title_apply(x, 'Name'), axis=1)\n",
    "\n",
    "# Categorical to numerical\n",
    "title_dummies = pd.get_dummies(df_full['Title'], prefix='Title')\n",
    "\n",
    "#titles = list(set(titles))\n",
    "#titles.remove('L.')\n",
    "#titles"
   ]
  },
  {
   "cell_type": "code",
   "execution_count": 7,
   "id": "ca85cbb4",
   "metadata": {},
   "outputs": [
    {
     "data": {
      "text/plain": [
       "Mr           757\n",
       "Miss         458\n",
       "Power         87\n",
       "Millitary      7\n",
       "Name: Title, dtype: int64"
      ]
     },
     "execution_count": 7,
     "metadata": {},
     "output_type": "execute_result"
    }
   ],
   "source": [
    "df_full['Title'].value_counts()"
   ]
  },
  {
   "attachments": {},
   "cell_type": "markdown",
   "id": "73ff5673",
   "metadata": {},
   "source": [
    "- Total size of family"
   ]
  },
  {
   "cell_type": "code",
   "execution_count": 8,
   "id": "d82b055b",
   "metadata": {},
   "outputs": [],
   "source": [
    "df_full['Total_Family_Size'] = df_full['SibSp'] + df_full['Parch'] + 1\n",
    "\n",
    "df_full['Family_Fare'] = df_full['Fare'] / df_full['Total_Family_Size']"
   ]
  },
  {
   "attachments": {},
   "cell_type": "markdown",
   "id": "8d329289",
   "metadata": {},
   "source": [
    "- Ticket feature"
   ]
  },
  {
   "cell_type": "code",
   "execution_count": 9,
   "id": "8efc1e63",
   "metadata": {},
   "outputs": [],
   "source": [
    "df_full['Ticket'] = df_full['Ticket'].str.replace('[/. ]','', regex=True)"
   ]
  },
  {
   "cell_type": "code",
   "execution_count": 10,
   "id": "40516641",
   "metadata": {},
   "outputs": [],
   "source": [
    "def define_ticket_numbers(df, col):\n",
    "    if sum(c.isdigit() for c in df[col]) == 7:\n",
    "        return '7_D'\n",
    "    \n",
    "    elif sum(c.isdigit() for c in df[col]) == 6:\n",
    "        return '6_D'\n",
    "    \n",
    "    elif sum(c.isdigit() for c in df[col]) == 5:\n",
    "        return '5_D'\n",
    "    \n",
    "    elif sum(c.isdigit() for c in df[col]) == 4:\n",
    "        return '4_D'\n",
    "    \n",
    "    else:\n",
    "        return 'Some_D'\n",
    "    \n",
    "\n",
    "df_full['Ticket'] = df_full.apply(lambda x: define_ticket_numbers(x, 'Ticket'), axis=1)"
   ]
  },
  {
   "cell_type": "code",
   "execution_count": 11,
   "id": "c2ece224",
   "metadata": {},
   "outputs": [
    {
     "data": {
      "text/plain": [
       "6_D       629\n",
       "5_D       372\n",
       "4_D       230\n",
       "Some_D     42\n",
       "7_D        36\n",
       "Name: Ticket, dtype: int64"
      ]
     },
     "execution_count": 11,
     "metadata": {},
     "output_type": "execute_result"
    }
   ],
   "source": [
    "df_full['Ticket'].value_counts()"
   ]
  },
  {
   "cell_type": "code",
   "execution_count": 12,
   "id": "86ed0c1a",
   "metadata": {},
   "outputs": [],
   "source": [
    "ticket_dummies = pd.get_dummies(df_full['Ticket'], prefix='Ticket')"
   ]
  },
  {
   "attachments": {},
   "cell_type": "markdown",
   "id": "2150a127",
   "metadata": {},
   "source": [
    "- Cabin Feature"
   ]
  },
  {
   "cell_type": "code",
   "execution_count": 13,
   "id": "bbf17cd9",
   "metadata": {},
   "outputs": [],
   "source": [
    "df_full['Cabin'] = df_full['Cabin'].fillna('Z')\n",
    "df_full['Cabin'] = df_full['Cabin'].str[0]"
   ]
  },
  {
   "cell_type": "code",
   "execution_count": 14,
   "id": "edf76bcf",
   "metadata": {},
   "outputs": [],
   "source": [
    "cabin_dummies = pd.get_dummies(df_full['Cabin'], prefix='Cabin')\n",
    "\n",
    "# df_full['Cabin'] = pd.Categorical(df_full['Cabin'])\n",
    "# df_full['Cabin_n'] = df_full['Cabin'].cat.codes"
   ]
  },
  {
   "cell_type": "code",
   "execution_count": 15,
   "id": "a68b385c",
   "metadata": {},
   "outputs": [],
   "source": [
    "df_full = df_full.drop(columns=['Name','Sex','Ticket','Cabin','Embarked','Title'])\n",
    "df_full = pd.concat([df_full,sex_dummies,embarked_dummies,cabin_dummies,title_dummies,ticket_dummies], axis=1)"
   ]
  },
  {
   "cell_type": "code",
   "execution_count": 16,
   "id": "24bebd4b",
   "metadata": {},
   "outputs": [
    {
     "data": {
      "text/plain": [
       "31"
      ]
     },
     "execution_count": 16,
     "metadata": {},
     "output_type": "execute_result"
    }
   ],
   "source": [
    "len(df_full.columns)"
   ]
  },
  {
   "cell_type": "code",
   "execution_count": 17,
   "id": "015d8c7d",
   "metadata": {},
   "outputs": [
    {
     "data": {
      "text/html": [
       "<div>\n",
       "<style scoped>\n",
       "    .dataframe tbody tr th:only-of-type {\n",
       "        vertical-align: middle;\n",
       "    }\n",
       "\n",
       "    .dataframe tbody tr th {\n",
       "        vertical-align: top;\n",
       "    }\n",
       "\n",
       "    .dataframe thead th {\n",
       "        text-align: right;\n",
       "    }\n",
       "</style>\n",
       "<table border=\"1\" class=\"dataframe\">\n",
       "  <thead>\n",
       "    <tr style=\"text-align: right;\">\n",
       "      <th></th>\n",
       "      <th>PassengerId</th>\n",
       "      <th>Pclass</th>\n",
       "      <th>Age</th>\n",
       "      <th>SibSp</th>\n",
       "      <th>Parch</th>\n",
       "      <th>Fare</th>\n",
       "      <th>Total_Family_Size</th>\n",
       "      <th>Family_Fare</th>\n",
       "      <th>Sex_female</th>\n",
       "      <th>Sex_male</th>\n",
       "      <th>...</th>\n",
       "      <th>Cabin_Z</th>\n",
       "      <th>Title_Millitary</th>\n",
       "      <th>Title_Miss</th>\n",
       "      <th>Title_Mr</th>\n",
       "      <th>Title_Power</th>\n",
       "      <th>Ticket_4_D</th>\n",
       "      <th>Ticket_5_D</th>\n",
       "      <th>Ticket_6_D</th>\n",
       "      <th>Ticket_7_D</th>\n",
       "      <th>Ticket_Some_D</th>\n",
       "    </tr>\n",
       "  </thead>\n",
       "  <tbody>\n",
       "    <tr>\n",
       "      <th>count</th>\n",
       "      <td>1309.000000</td>\n",
       "      <td>1309.000000</td>\n",
       "      <td>1309.000000</td>\n",
       "      <td>1309.000000</td>\n",
       "      <td>1309.000000</td>\n",
       "      <td>1309.000000</td>\n",
       "      <td>1309.000000</td>\n",
       "      <td>1309.000000</td>\n",
       "      <td>1309.000000</td>\n",
       "      <td>1309.000000</td>\n",
       "      <td>...</td>\n",
       "      <td>1309.000000</td>\n",
       "      <td>1309.000000</td>\n",
       "      <td>1309.000000</td>\n",
       "      <td>1309.000000</td>\n",
       "      <td>1309.000000</td>\n",
       "      <td>1309.000000</td>\n",
       "      <td>1309.000000</td>\n",
       "      <td>1309.000000</td>\n",
       "      <td>1309.000000</td>\n",
       "      <td>1309.000000</td>\n",
       "    </tr>\n",
       "    <tr>\n",
       "      <th>mean</th>\n",
       "      <td>655.000000</td>\n",
       "      <td>2.294882</td>\n",
       "      <td>29.495034</td>\n",
       "      <td>0.498854</td>\n",
       "      <td>0.385027</td>\n",
       "      <td>33.270043</td>\n",
       "      <td>1.883881</td>\n",
       "      <td>20.502540</td>\n",
       "      <td>0.355997</td>\n",
       "      <td>0.644003</td>\n",
       "      <td>...</td>\n",
       "      <td>0.774637</td>\n",
       "      <td>0.005348</td>\n",
       "      <td>0.349885</td>\n",
       "      <td>0.578304</td>\n",
       "      <td>0.066463</td>\n",
       "      <td>0.175707</td>\n",
       "      <td>0.284186</td>\n",
       "      <td>0.480519</td>\n",
       "      <td>0.027502</td>\n",
       "      <td>0.032086</td>\n",
       "    </tr>\n",
       "    <tr>\n",
       "      <th>std</th>\n",
       "      <td>378.020061</td>\n",
       "      <td>0.837836</td>\n",
       "      <td>12.903287</td>\n",
       "      <td>1.041658</td>\n",
       "      <td>0.865560</td>\n",
       "      <td>51.747063</td>\n",
       "      <td>1.583639</td>\n",
       "      <td>35.765156</td>\n",
       "      <td>0.478997</td>\n",
       "      <td>0.478997</td>\n",
       "      <td>...</td>\n",
       "      <td>0.417981</td>\n",
       "      <td>0.072959</td>\n",
       "      <td>0.477116</td>\n",
       "      <td>0.494019</td>\n",
       "      <td>0.249185</td>\n",
       "      <td>0.380716</td>\n",
       "      <td>0.451198</td>\n",
       "      <td>0.499811</td>\n",
       "      <td>0.163603</td>\n",
       "      <td>0.176295</td>\n",
       "    </tr>\n",
       "    <tr>\n",
       "      <th>min</th>\n",
       "      <td>1.000000</td>\n",
       "      <td>1.000000</td>\n",
       "      <td>0.000000</td>\n",
       "      <td>0.000000</td>\n",
       "      <td>0.000000</td>\n",
       "      <td>0.000000</td>\n",
       "      <td>1.000000</td>\n",
       "      <td>0.000000</td>\n",
       "      <td>0.000000</td>\n",
       "      <td>0.000000</td>\n",
       "      <td>...</td>\n",
       "      <td>0.000000</td>\n",
       "      <td>0.000000</td>\n",
       "      <td>0.000000</td>\n",
       "      <td>0.000000</td>\n",
       "      <td>0.000000</td>\n",
       "      <td>0.000000</td>\n",
       "      <td>0.000000</td>\n",
       "      <td>0.000000</td>\n",
       "      <td>0.000000</td>\n",
       "      <td>0.000000</td>\n",
       "    </tr>\n",
       "    <tr>\n",
       "      <th>25%</th>\n",
       "      <td>328.000000</td>\n",
       "      <td>2.000000</td>\n",
       "      <td>22.000000</td>\n",
       "      <td>0.000000</td>\n",
       "      <td>0.000000</td>\n",
       "      <td>7.895800</td>\n",
       "      <td>1.000000</td>\n",
       "      <td>7.452767</td>\n",
       "      <td>0.000000</td>\n",
       "      <td>0.000000</td>\n",
       "      <td>...</td>\n",
       "      <td>1.000000</td>\n",
       "      <td>0.000000</td>\n",
       "      <td>0.000000</td>\n",
       "      <td>0.000000</td>\n",
       "      <td>0.000000</td>\n",
       "      <td>0.000000</td>\n",
       "      <td>0.000000</td>\n",
       "      <td>0.000000</td>\n",
       "      <td>0.000000</td>\n",
       "      <td>0.000000</td>\n",
       "    </tr>\n",
       "    <tr>\n",
       "      <th>50%</th>\n",
       "      <td>655.000000</td>\n",
       "      <td>3.000000</td>\n",
       "      <td>28.000000</td>\n",
       "      <td>0.000000</td>\n",
       "      <td>0.000000</td>\n",
       "      <td>14.454200</td>\n",
       "      <td>1.000000</td>\n",
       "      <td>8.458300</td>\n",
       "      <td>0.000000</td>\n",
       "      <td>1.000000</td>\n",
       "      <td>...</td>\n",
       "      <td>1.000000</td>\n",
       "      <td>0.000000</td>\n",
       "      <td>0.000000</td>\n",
       "      <td>1.000000</td>\n",
       "      <td>0.000000</td>\n",
       "      <td>0.000000</td>\n",
       "      <td>0.000000</td>\n",
       "      <td>0.000000</td>\n",
       "      <td>0.000000</td>\n",
       "      <td>0.000000</td>\n",
       "    </tr>\n",
       "    <tr>\n",
       "      <th>75%</th>\n",
       "      <td>982.000000</td>\n",
       "      <td>3.000000</td>\n",
       "      <td>35.000000</td>\n",
       "      <td>1.000000</td>\n",
       "      <td>0.000000</td>\n",
       "      <td>31.275000</td>\n",
       "      <td>2.000000</td>\n",
       "      <td>24.150000</td>\n",
       "      <td>1.000000</td>\n",
       "      <td>1.000000</td>\n",
       "      <td>...</td>\n",
       "      <td>1.000000</td>\n",
       "      <td>0.000000</td>\n",
       "      <td>1.000000</td>\n",
       "      <td>1.000000</td>\n",
       "      <td>0.000000</td>\n",
       "      <td>0.000000</td>\n",
       "      <td>1.000000</td>\n",
       "      <td>1.000000</td>\n",
       "      <td>0.000000</td>\n",
       "      <td>0.000000</td>\n",
       "    </tr>\n",
       "    <tr>\n",
       "      <th>max</th>\n",
       "      <td>1309.000000</td>\n",
       "      <td>3.000000</td>\n",
       "      <td>80.000000</td>\n",
       "      <td>8.000000</td>\n",
       "      <td>9.000000</td>\n",
       "      <td>512.329200</td>\n",
       "      <td>11.000000</td>\n",
       "      <td>512.329200</td>\n",
       "      <td>1.000000</td>\n",
       "      <td>1.000000</td>\n",
       "      <td>...</td>\n",
       "      <td>1.000000</td>\n",
       "      <td>1.000000</td>\n",
       "      <td>1.000000</td>\n",
       "      <td>1.000000</td>\n",
       "      <td>1.000000</td>\n",
       "      <td>1.000000</td>\n",
       "      <td>1.000000</td>\n",
       "      <td>1.000000</td>\n",
       "      <td>1.000000</td>\n",
       "      <td>1.000000</td>\n",
       "    </tr>\n",
       "  </tbody>\n",
       "</table>\n",
       "<p>8 rows × 31 columns</p>\n",
       "</div>"
      ],
      "text/plain": [
       "       PassengerId       Pclass          Age        SibSp        Parch  \\\n",
       "count  1309.000000  1309.000000  1309.000000  1309.000000  1309.000000   \n",
       "mean    655.000000     2.294882    29.495034     0.498854     0.385027   \n",
       "std     378.020061     0.837836    12.903287     1.041658     0.865560   \n",
       "min       1.000000     1.000000     0.000000     0.000000     0.000000   \n",
       "25%     328.000000     2.000000    22.000000     0.000000     0.000000   \n",
       "50%     655.000000     3.000000    28.000000     0.000000     0.000000   \n",
       "75%     982.000000     3.000000    35.000000     1.000000     0.000000   \n",
       "max    1309.000000     3.000000    80.000000     8.000000     9.000000   \n",
       "\n",
       "              Fare  Total_Family_Size  Family_Fare   Sex_female     Sex_male  \\\n",
       "count  1309.000000        1309.000000  1309.000000  1309.000000  1309.000000   \n",
       "mean     33.270043           1.883881    20.502540     0.355997     0.644003   \n",
       "std      51.747063           1.583639    35.765156     0.478997     0.478997   \n",
       "min       0.000000           1.000000     0.000000     0.000000     0.000000   \n",
       "25%       7.895800           1.000000     7.452767     0.000000     0.000000   \n",
       "50%      14.454200           1.000000     8.458300     0.000000     1.000000   \n",
       "75%      31.275000           2.000000    24.150000     1.000000     1.000000   \n",
       "max     512.329200          11.000000   512.329200     1.000000     1.000000   \n",
       "\n",
       "       ...      Cabin_Z  Title_Millitary   Title_Miss     Title_Mr  \\\n",
       "count  ...  1309.000000      1309.000000  1309.000000  1309.000000   \n",
       "mean   ...     0.774637         0.005348     0.349885     0.578304   \n",
       "std    ...     0.417981         0.072959     0.477116     0.494019   \n",
       "min    ...     0.000000         0.000000     0.000000     0.000000   \n",
       "25%    ...     1.000000         0.000000     0.000000     0.000000   \n",
       "50%    ...     1.000000         0.000000     0.000000     1.000000   \n",
       "75%    ...     1.000000         0.000000     1.000000     1.000000   \n",
       "max    ...     1.000000         1.000000     1.000000     1.000000   \n",
       "\n",
       "       Title_Power   Ticket_4_D   Ticket_5_D   Ticket_6_D   Ticket_7_D  \\\n",
       "count  1309.000000  1309.000000  1309.000000  1309.000000  1309.000000   \n",
       "mean      0.066463     0.175707     0.284186     0.480519     0.027502   \n",
       "std       0.249185     0.380716     0.451198     0.499811     0.163603   \n",
       "min       0.000000     0.000000     0.000000     0.000000     0.000000   \n",
       "25%       0.000000     0.000000     0.000000     0.000000     0.000000   \n",
       "50%       0.000000     0.000000     0.000000     0.000000     0.000000   \n",
       "75%       0.000000     0.000000     1.000000     1.000000     0.000000   \n",
       "max       1.000000     1.000000     1.000000     1.000000     1.000000   \n",
       "\n",
       "       Ticket_Some_D  \n",
       "count    1309.000000  \n",
       "mean        0.032086  \n",
       "std         0.176295  \n",
       "min         0.000000  \n",
       "25%         0.000000  \n",
       "50%         0.000000  \n",
       "75%         0.000000  \n",
       "max         1.000000  \n",
       "\n",
       "[8 rows x 31 columns]"
      ]
     },
     "execution_count": 17,
     "metadata": {},
     "output_type": "execute_result"
    }
   ],
   "source": [
    "df_full.describe()"
   ]
  },
  {
   "attachments": {},
   "cell_type": "markdown",
   "id": "77ea0b14-59ae-42f4-bcc7-5dc0ca24c514",
   "metadata": {},
   "source": [
    "### Cross-validation"
   ]
  },
  {
   "cell_type": "code",
   "execution_count": 18,
   "id": "0be511b8",
   "metadata": {},
   "outputs": [],
   "source": [
    "# Finding the answers given to us\n",
    "answers = df_train[['PassengerId','Survived']]\n",
    "dataset = df_full.merge(answers, on='PassengerId', how='inner')\n",
    "\n",
    "X = dataset.drop(columns='Survived')\n",
    "y = dataset['Survived']"
   ]
  },
  {
   "cell_type": "code",
   "execution_count": 19,
   "id": "eb8c6056",
   "metadata": {},
   "outputs": [],
   "source": [
    "val_X_train, val_X_test, val_y_train, val_y_test = train_test_split(X, y, test_size=0.4, random_state=28)"
   ]
  },
  {
   "cell_type": "code",
   "execution_count": 20,
   "metadata": {},
   "outputs": [
    {
     "data": {
      "text/plain": [
       "((534, 31), (534,), (357, 31), (357,))"
      ]
     },
     "execution_count": 20,
     "metadata": {},
     "output_type": "execute_result"
    }
   ],
   "source": [
    "val_X_train.shape, val_y_train.shape, val_X_test.shape, val_y_test.shape"
   ]
  },
  {
   "cell_type": "code",
   "execution_count": 21,
   "metadata": {},
   "outputs": [
    {
     "name": "stdout",
     "output_type": "stream",
     "text": [
      "Model: dec\n",
      "TTS Score was: 0.7478991596638656\n",
      "CV Score mean was 0.7228838951310861 with std of 0.04579728050683972\n",
      "\n",
      "Model: gauss\n",
      "TTS Score was: 0.5546218487394958\n",
      "CV Score mean was 0.4646441947565543 with std of 0.1019959872567927\n",
      "\n",
      "Model: rf\n",
      "TTS Score was: 0.8179271708683473\n",
      "CV Score mean was 0.8193133583021224 with std of 0.03702619904362473\n",
      "\n",
      "Model: ada\n",
      "TTS Score was: 0.7591036414565826\n",
      "CV Score mean was 0.7857677902621722 with std of 0.05748301136464321\n",
      "\n"
     ]
    }
   ],
   "source": [
    "models = {\n",
    "    'dec': DecisionTreeClassifier(random_state=28),\n",
    "    'gauss': GaussianProcessClassifier(random_state=28),\n",
    "    'rf': RandomForestClassifier(random_state=28, criterion='entropy'),\n",
    "    'ada': AdaBoostClassifier(random_state=28)\n",
    "}\n",
    "\n",
    "for name, model in models.items():\n",
    "    model.fit(val_X_train, val_y_train)\n",
    "    train_test_split_score = model.score(val_X_test, val_y_test)\n",
    "\n",
    "    cv_scores = cross_val_score(model, X, y, cv=10)\n",
    "\n",
    "    print(f'Model: {name}')\n",
    "    print(f'TTS Score was: {train_test_split_score}')\n",
    "    print(f'CV Score mean was {cv_scores.mean()} with std of {cv_scores.std()}\\n')"
   ]
  },
  {
   "attachments": {},
   "cell_type": "markdown",
   "id": "a1bd1122",
   "metadata": {},
   "source": [
    "### Working the AdaBoostClassifier\n",
    "\n",
    "- Traditional model Tuning"
   ]
  },
  {
   "cell_type": "code",
   "execution_count": 22,
   "id": "7ffd1e07",
   "metadata": {},
   "outputs": [
    {
     "name": "stdout",
     "output_type": "stream",
     "text": [
      "Model: AdaBoostClassifier.\n",
      "TTS Score was: 0.7647058823529411\n",
      "CV Score mean was 0.7375031210986267 with std of 0.0546441305803968\n",
      "\n"
     ]
    }
   ],
   "source": [
    "train_test_split_score_old = 0\n",
    "cv_scores_old = 0\n",
    "\n",
    "model = AdaBoostClassifier(\n",
    "    estimator=DecisionTreeClassifier(random_state=28),\n",
    "    random_state=28,\n",
    "    n_estimators=1,\n",
    "    learning_rate=0.1,\n",
    "    algorithm='SAMME'\n",
    ").fit(val_X_train, val_y_train)\n",
    "train_test_split_score = model.score(val_X_test, val_y_test)\n",
    "\n",
    "cv_scores = cross_val_score(model, X, y, cv=10)\n",
    "\n",
    "#if (train_test_split_score_old != train_test_split_score) or (cv_scores_old != cv_scores.mean()):\n",
    "print(f'Model: AdaBoostClassifier.')\n",
    "print(f'TTS Score was: {train_test_split_score}')\n",
    "print(f'CV Score mean was {cv_scores.mean()} with std of {cv_scores.std()}\\n')\n",
    "\n",
    "train_test_split_score_old = train_test_split_score\n",
    "cv_scores_old = cv_scores.mean()"
   ]
  },
  {
   "attachments": {},
   "cell_type": "markdown",
   "id": "6f25191e",
   "metadata": {},
   "source": [
    "- Cross-validation tuning hyper-parameters"
   ]
  },
  {
   "cell_type": "code",
   "execution_count": 23,
   "id": "0451602c",
   "metadata": {},
   "outputs": [
    {
     "data": {
      "text/plain": [
       "\"param_grid = {\\n    'estimator' : [DecisionTreeClassifier(random_state=28), SVC(probability=True, kernel='linear', random_state=28)],\\n    'random_state' : [28,56,102,130,204,280],\\n    'n_estimators': [1, 25, 50, 100, 200, 300],\\n    'learning_rate': [0.1, 0.2, 0.3, 0.5, 0.8, 1],\\n    'algorithm': ['SAMME','SAMME.R']\\n}\\n\\nhs = HalvingGridSearchCV(model, param_grid, cv=10, factor=2, max_resources=50).fit(X, y)\""
      ]
     },
     "execution_count": 23,
     "metadata": {},
     "output_type": "execute_result"
    }
   ],
   "source": [
    "'''param_grid = {\n",
    "    'estimator' : [DecisionTreeClassifier(random_state=28), SVC(probability=True, kernel='linear', random_state=28)],\n",
    "    'random_state' : [28,56,102,130,204,280],\n",
    "    'n_estimators': [1, 25, 50, 100, 200, 300],\n",
    "    'learning_rate': [0.1, 0.2, 0.3, 0.5, 0.8, 1],\n",
    "    'algorithm': ['SAMME','SAMME.R']\n",
    "}\n",
    "\n",
    "hs = HalvingGridSearchCV(model, param_grid, cv=10, factor=2, max_resources=50).fit(X, y)'''"
   ]
  },
  {
   "cell_type": "code",
   "execution_count": 24,
   "id": "51fbc87c",
   "metadata": {},
   "outputs": [
    {
     "data": {
      "text/plain": [
       "\"{'algorithm': 'SAMME',\\n 'estimator': DecisionTreeClassifier(random_state=28),\\n 'learning_rate': 0.1,\\n 'n_estimators': 1,\\n 'random_state': 28}\""
      ]
     },
     "execution_count": 24,
     "metadata": {},
     "output_type": "execute_result"
    }
   ],
   "source": [
    "# hs.best_estimator_\n",
    "# hs.best_params_\n",
    "\n",
    "\n",
    "'''{'algorithm': 'SAMME',\n",
    " 'estimator': DecisionTreeClassifier(random_state=28),\n",
    " 'learning_rate': 0.1,\n",
    " 'n_estimators': 1,\n",
    " 'random_state': 28}'''"
   ]
  },
  {
   "cell_type": "code",
   "execution_count": 29,
   "id": "31de4067",
   "metadata": {},
   "outputs": [],
   "source": [
    "model = AdaBoostClassifier(\n",
    "    estimator=DecisionTreeClassifier(random_state=28),\n",
    "    random_state=28,\n",
    "    n_estimators=1,\n",
    "    learning_rate=0.1,\n",
    "    algorithm='SAMME'\n",
    ").fit(X, y)"
   ]
  },
  {
   "cell_type": "code",
   "execution_count": 30,
   "id": "e1a6fd66",
   "metadata": {},
   "outputs": [],
   "source": [
    "scores = cross_validate(model, X, y, scoring=['f1','f1_micro','f1_macro','f1_weighted'], cv=10)"
   ]
  },
  {
   "cell_type": "code",
   "execution_count": 31,
   "id": "42e8f9aa",
   "metadata": {},
   "outputs": [
    {
     "name": "stdout",
     "output_type": "stream",
     "text": [
      "fit_time: 0.01831371784210205\n",
      "score_time: 0.011520576477050782\n",
      "test_f1: 0.6525782096807848\n",
      "test_f1_micro: 0.7375031210986267\n",
      "test_f1_macro: 0.7187423467411979\n",
      "test_f1_weighted: 0.7340498798450922\n"
     ]
    }
   ],
   "source": [
    "for i,j in scores.items():\n",
    "    print(f'{i}: {j.mean()}')"
   ]
  },
  {
   "cell_type": "code",
   "execution_count": 32,
   "id": "7a52b126",
   "metadata": {},
   "outputs": [
    {
     "data": {
      "text/plain": [
       "{'algorithm': 'SAMME',\n",
       " 'base_estimator': 'deprecated',\n",
       " 'estimator__ccp_alpha': 0.0,\n",
       " 'estimator__class_weight': None,\n",
       " 'estimator__criterion': 'gini',\n",
       " 'estimator__max_depth': None,\n",
       " 'estimator__max_features': None,\n",
       " 'estimator__max_leaf_nodes': None,\n",
       " 'estimator__min_impurity_decrease': 0.0,\n",
       " 'estimator__min_samples_leaf': 1,\n",
       " 'estimator__min_samples_split': 2,\n",
       " 'estimator__min_weight_fraction_leaf': 0.0,\n",
       " 'estimator__random_state': 28,\n",
       " 'estimator__splitter': 'best',\n",
       " 'estimator': DecisionTreeClassifier(random_state=28),\n",
       " 'learning_rate': 0.1,\n",
       " 'n_estimators': 1,\n",
       " 'random_state': 28}"
      ]
     },
     "execution_count": 32,
     "metadata": {},
     "output_type": "execute_result"
    }
   ],
   "source": [
    "model.get_params()"
   ]
  },
  {
   "cell_type": "code",
   "execution_count": 33,
   "metadata": {},
   "outputs": [
    {
     "data": {
      "text/plain": [
       "0.7375031210986267"
      ]
     },
     "execution_count": 33,
     "metadata": {},
     "output_type": "execute_result"
    }
   ],
   "source": [
    "model.score(X, y)\n",
    "scores = cross_val_score(model, X, y, cv=10)\n",
    "scores.mean()"
   ]
  },
  {
   "cell_type": "code",
   "execution_count": 34,
   "id": "4c87202c",
   "metadata": {},
   "outputs": [
    {
     "data": {
      "text/plain": [
       "<AxesSubplot:>"
      ]
     },
     "execution_count": 34,
     "metadata": {},
     "output_type": "execute_result"
    },
    {
     "data": {
      "image/png": "[encoded data removed]",
      "text/plain": [
       "<Figure size 640x480 with 2 Axes>"
      ]
     },
     "metadata": {},
     "output_type": "display_data"
    }
   ],
   "source": [
    "sns.heatmap(X.corr())"
   ]
  },
  {
   "cell_type": "code",
   "execution_count": 35,
   "id": "60d11cc4",
   "metadata": {},
   "outputs": [],
   "source": [
    "df_test = df_test['PassengerId']\n",
    "df_test = df_full.merge(df_test, on='PassengerId', how='inner')"
   ]
  },
  {
   "cell_type": "code",
   "execution_count": 32,
   "id": "b4b7d0aa-4e96-4001-8ceb-625157264ae2",
   "metadata": {},
   "outputs": [],
   "source": [
    "# Test Feature selection\n",
    "test_X = df_test\n",
    "\n",
    "# Predictions\n",
    "test_predictions = model.predict(test_X)"
   ]
  },
  {
   "cell_type": "code",
   "execution_count": 33,
   "id": "e3bc1fb1-ce60-41e2-b5df-0df360fd797e",
   "metadata": {},
   "outputs": [],
   "source": [
    "df_submission = pd.concat([df_test['PassengerId'], pd.Series(test_predictions)], axis=1)"
   ]
  },
  {
   "cell_type": "code",
   "execution_count": 35,
   "id": "29ad356c-b01f-498e-982b-8a76fc219382",
   "metadata": {},
   "outputs": [],
   "source": [
    "df_submission = df_submission.rename(columns={0:'Survived'})\n",
    "df_submission.to_csv(\"titanic_results_1802202301_ada.csv\", header=True, index=False)"
   ]
  }
 ],
 "metadata": {
  "kernelspec": {
   "display_name": "base",
   "language": "python",
   "name": "python3"
  },
  "language_info": {
   "codemirror_mode": {
    "name": "ipython",
    "version": 3
   },
   "file_extension": ".py",
   "mimetype": "text/x-python",
   "name": "python",
   "nbconvert_exporter": "python",
   "pygments_lexer": "ipython3",
   "version": "3.9.13"
  },
  "vscode": {
   "interpreter": {
    "hash": "59924e34027df4cc9b15b50c9216d57487fc2a1a92908c3f2f36759a9de8f940"
   }
  }
 },
 "nbformat": 4,
 "nbformat_minor": 5
}
